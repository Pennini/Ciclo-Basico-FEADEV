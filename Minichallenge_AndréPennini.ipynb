{
 "cells": [
  {
   "cell_type": "code",
   "execution_count": 3,
   "id": "05fbf773",
   "metadata": {},
   "outputs": [
    {
     "ename": "ModuleNotFoundError",
     "evalue": "No module named 'pandas'",
     "output_type": "error",
     "traceback": [
      "\u001b[1;31m---------------------------------------------------------------------------\u001b[0m",
      "\u001b[1;31mModuleNotFoundError\u001b[0m                       Traceback (most recent call last)",
      "Cell \u001b[1;32mIn[3], line 1\u001b[0m\n\u001b[1;32m----> 1\u001b[0m \u001b[39mimport\u001b[39;00m \u001b[39mpandas\u001b[39;00m \u001b[39mas\u001b[39;00m \u001b[39mpd\u001b[39;00m\n\u001b[0;32m      2\u001b[0m \u001b[39mimport\u001b[39;00m \u001b[39mrandom\u001b[39;00m\n\u001b[0;32m      4\u001b[0m tabela \u001b[39m=\u001b[39m pd\u001b[39m.\u001b[39mread_excel(\u001b[39m\"\u001b[39m\u001b[39mC:/Users/Lenovo/Desktop/FEA DEV/Mini challenge - Semana 1.xlsx\u001b[39m\u001b[39m\"\u001b[39m)\n",
      "\u001b[1;31mModuleNotFoundError\u001b[0m: No module named 'pandas'"
     ]
    }
   ],
   "source": [
    "import pandas as pd\n",
    "import random\n",
    "\n",
    "tabela = pd.read_excel(\"C:/Users/Lenovo/Desktop/FEA DEV/Mini challenge - Semana 1.xlsx\")\n",
    "display(tabela[['Nome','Restrição']])\n",
    "\n",
    "grupo1 = []\n",
    "grupo2 = []\n",
    "grupo3 = []\n",
    "grupo4 = []\n",
    "\n",
    "for index, row in tabela.iterrows():\n",
    "    if row[\"Restrição\"] == 1:\n",
    "        if len(grupo1) < 1:\n",
    "            grupo1.append(row[\"Nome\"])\n",
    "        elif len(grupo2) < 1:\n",
    "            grupo2.append(row[\"Nome\"])\n",
    "        elif len(grupo3) < 1:\n",
    "            grupo3.append(row[\"Nome\"])\n",
    "        elif len(grupo4) < 1:\n",
    "            grupo4.append(row[\"Nome\"])\n",
    "\n",
    "for index, row in tabela.iterrows():\n",
    "    if row[\"Restrição\"] == 0:\n",
    "        grupos_disponiveis = [grupo1, grupo2, grupo3, grupo4]\n",
    "        while grupos_disponiveis:\n",
    "            grupo = random.choice(grupos_disponiveis)\n",
    "            if len(grupo) < 5:\n",
    "                grupo.append(row[\"Nome\"])\n",
    "                break\n",
    "            grupos_disponiveis.remove(grupo)\n",
    "\n",
    "print('Grupo 1:', grupo1)\n",
    "print('Grupo 2:', grupo2)\n",
    "print('Grupo 3:', grupo3)\n",
    "print('Grupo 4:', grupo4)"
   ]
  }
 ],
 "metadata": {
  "kernelspec": {
   "display_name": "Python 3 (ipykernel)",
   "language": "python",
   "name": "python3"
  },
  "language_info": {
   "codemirror_mode": {
    "name": "ipython",
    "version": 3
   },
   "file_extension": ".py",
   "mimetype": "text/x-python",
   "name": "python",
   "nbconvert_exporter": "python",
   "pygments_lexer": "ipython3",
   "version": "3.11.0"
  }
 },
 "nbformat": 4,
 "nbformat_minor": 5
}
